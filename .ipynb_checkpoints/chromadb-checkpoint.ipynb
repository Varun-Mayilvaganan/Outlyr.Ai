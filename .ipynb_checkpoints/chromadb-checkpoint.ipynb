{
 "cells": [
  {
   "cell_type": "code",
   "execution_count": 1,
   "id": "73ffec8c",
   "metadata": {},
   "outputs": [
    {
     "name": "stdout",
     "output_type": "stream",
     "text": [
      "content='You\\'re referring to Dr. A.P.J. Abdul Kalam, also known as the \"Missile Man of India\". \\n\\nDr. A.P.J. Abdul Kalam was a renowned Indian scientist, engineer, and politician who played a crucial role in the development of India\\'s missile program. He was born on October 15, 1931, in Rameswaram, Tamil Nadu, and passed away on July 27, 2015.\\n\\nDr. Kalam\\'s contributions to India\\'s defense and space programs are immense. He was instrumental in the development of several missiles, including:\\n\\n1. **Agni**: a ballistic missile capable of carrying nuclear warheads\\n2. **Prithvi**: a surface-to-surface missile\\n3. **Trishul**: a short-range surface-to-air missile\\n4. **Nag**: an anti-tank missile\\n5. **Akash**: a medium-range surface-to-air missile\\n\\nDr. Kalam\\'s work on these missile projects earned him the nickname \"Missile Man of India\". He was also a key figure in the development of India\\'s space program, including the launch of the Polar Satellite Launch Vehicle (PSLV) and the Geosynchronous Satellite Launch Vehicle (GSLV).\\n\\nIn addition to his scientific contributions, Dr. Kalam was also a dedicated educator and writer. He authored several books, including \"Ignited Minds\" and \"Wings of Fire\", which inspired many young Indians to pursue careers in science and technology.\\n\\nDr. Kalam served as the 11th President of India from 2002 to 2007, and was awarded the Bharat Ratna, India\\'s highest civilian honor, in 1997. He will always be remembered as a true patriot and a pioneer in India\\'s scientific community.' additional_kwargs={} response_metadata={'token_usage': {'completion_tokens': 363, 'prompt_tokens': 40, 'total_tokens': 403, 'completion_time': 1.8128849489999999, 'prompt_time': 0.011362521, 'queue_time': 0.0002919079999999987, 'total_time': 1.82424747}, 'model_name': 'llama-3.1-70b-versatile', 'system_fingerprint': 'fp_c0cfa69934', 'finish_reason': 'stop', 'logprobs': None} id='run-4cfa2eca-7152-44c4-a3c5-fa91369e35a1-0' usage_metadata={'input_tokens': 40, 'output_tokens': 363, 'total_tokens': 403}\n"
     ]
    }
   ],
   "source": [
    "from langchain_groq import ChatGroq\n",
    "\n",
    "llm = ChatGroq(\n",
    "    temperature = 0,\n",
    "    groq_api_key = \"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\",\n",
    "    model_name = \"llama-3.1-70b-versatile\"\n",
    ")\n",
    "response = llm.invoke(\"Missile man of India\")\n",
    "print(response) "
   ]
  },
  {
   "cell_type": "code",
   "execution_count": 2,
   "id": "0cc826a3-1a11-4214-ae58-0551d5bd94d4",
   "metadata": {},
   "outputs": [
    {
     "ename": "ModuleNotFoundError",
     "evalue": "No module named 'chromadb'",
     "output_type": "error",
     "traceback": [
      "\u001b[1;31m---------------------------------------------------------------------------\u001b[0m",
      "\u001b[1;31mModuleNotFoundError\u001b[0m                       Traceback (most recent call last)",
      "Cell \u001b[1;32mIn[2], line 1\u001b[0m\n\u001b[1;32m----> 1\u001b[0m \u001b[38;5;28;01mimport\u001b[39;00m \u001b[38;5;21;01mchromadb\u001b[39;00m\n\u001b[0;32m      3\u001b[0m client \u001b[38;5;241m=\u001b[39m chromadb\u001b[38;5;241m.\u001b[39mClient()\n\u001b[0;32m      4\u001b[0m collection \u001b[38;5;241m=\u001b[39m client\u001b[38;5;241m.\u001b[39mcreate_collection(name\u001b[38;5;241m=\u001b[39m\u001b[38;5;124m\"\u001b[39m\u001b[38;5;124mmy_collection\u001b[39m\u001b[38;5;124m\"\u001b[39m)\n",
      "\u001b[1;31mModuleNotFoundError\u001b[0m: No module named 'chromadb'"
     ]
    }
   ],
   "source": [
    "import chromadb\n",
    "\n",
    "client = chromadb.Client()\n",
    "collection = client.create_collection(name=\"my_collection\")"
   ]
  },
  {
   "cell_type": "code",
   "execution_count": null,
   "id": "dc3e2886",
   "metadata": {},
   "outputs": [],
   "source": [
    "collection.add(\n",
    "    documents =[\n",
    "        \"this doc is about environmental sustainability test\",\n",
    "        \"this doc is about semester exam\",\n",
    "\n",
    "    ],\n",
    "    ids = [\"id1\",\"id2\"]\n",
    ")"
   ]
  },
  {
   "cell_type": "code",
   "execution_count": null,
   "id": "0e4a620f",
   "metadata": {},
   "outputs": [],
   "source": [
    "all_docs  = collection.get()\n",
    "all_docs"
   ]
  },
  {
   "cell_type": "code",
   "execution_count": null,
   "id": "e6f17fe5",
   "metadata": {},
   "outputs": [],
   "source": [
    "results = collection.query(\n",
    "    query_texts=[\"renewable energy technologies\"],\n",
    "    n_results = 2\n",
    ")\n",
    "results"
   ]
  },
  {
   "cell_type": "code",
   "execution_count": null,
   "id": "b43f60ae",
   "metadata": {},
   "outputs": [],
   "source": [
    "collection.delete(ids = all_docs[\"ids\"])\n",
    "collection.get()"
   ]
  },
  {
   "cell_type": "code",
   "execution_count": null,
   "id": "736f9fef",
   "metadata": {},
   "outputs": [],
   "source": [
    "collection.add(\n",
    "    documents =[\n",
    "        \"this doc is about environmental sustainability test\",\n",
    "        \"this doc is about semester exam\",\n",
    "\n",
    "    ],\n",
    "    ids = [\"id3\",\"id4\"],\n",
    "    metadatas=[\n",
    "        {\"url\":\"https://en.wikipedia.org/wiki/Sustainability\"},\n",
    "        {\"url\":\"https://en.wikipedia.org/wiki/Exam\"}\n",
    "    ]\n",
    ")\n"
   ]
  },
  {
   "cell_type": "code",
   "execution_count": null,
   "id": "c8de0aec",
   "metadata": {},
   "outputs": [],
   "source": [
    "results = collection.query(\n",
    "    query_texts=[\"renewable energy technologies\"],\n",
    "    n_results = 2\n",
    ")\n",
    "results"
   ]
  }
 ],
 "metadata": {
  "kernelspec": {
   "display_name": "Python 3",
   "language": "python",
   "name": "python3"
  },
  "language_info": {
   "codemirror_mode": {
    "name": "ipython",
    "version": 3
   },
   "file_extension": ".py",
   "mimetype": "text/x-python",
   "name": "python",
   "nbconvert_exporter": "python",
   "pygments_lexer": "ipython3",
   "version": "3.12.1"
  }
 },
 "nbformat": 4,
 "nbformat_minor": 5
}
