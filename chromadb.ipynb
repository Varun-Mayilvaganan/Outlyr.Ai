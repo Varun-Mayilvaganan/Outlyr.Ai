{
 "cells": [
  {
   "cell_type": "code",
   "execution_count": 2,
   "id": "73ffec8c",
   "metadata": {},
   "outputs": [
    {
     "name": "stdout",
     "output_type": "stream",
     "text": [
      "You're referring to Dr. A.P.J. Abdul Kalam, also known as the \"Missile Man of India\". \n",
      "\n",
      "Dr. A.P.J. Abdul Kalam was a renowned Indian scientist, engineer, and politician who played a crucial role in the development of India's missile program. He is credited with the development of several missiles, including the Agni and Prithvi missiles, which are considered to be among the most advanced in the world.\n",
      "\n",
      "Dr. Kalam was born on October 15, 1931, in Rameswaram, Tamil Nadu, and studied physics and aerospace engineering. He joined the Indian Space Research Organisation (ISRO) in 1969 and worked on several projects, including the development of the SLV-III rocket, which launched India's first satellite, Rohini, into space.\n",
      "\n",
      "In the 1980s, Dr. Kalam joined the Defence Research and Development Organisation (DRDO) and worked on the development of several missiles, including the Agni, Prithvi, and Trishul missiles. His work on these projects earned him the nickname \"Missile Man of India\".\n",
      "\n",
      "Dr. Kalam's contributions to India's missile program were recognized with several awards, including the Padma Bhushan, Padma Vibhushan, and Bharat Ratna, India's highest civilian honor. He also served as the 11th President of India from 2002 to 2007.\n",
      "\n",
      "Dr. Kalam was a strong advocate for education, science, and technology, and he worked tirelessly to promote these fields in India. He is remembered as a true patriot and a pioneer in the field of Indian science and technology.\n"
     ]
    }
   ],
   "source": [
    "from langchain_groq import ChatGroq\n",
    "\n",
    "llm = ChatGroq(\n",
    "    temperature = 0,\n",
    "    groq_api_key = \"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\",\n",
    "    model_name = \"llama-3.1-70b-versatile\"\n",
    ")\n",
    "response = llm.invoke(\"Missile man of India\")\n",
    "print(response.content) "
   ]
  },
  {
   "cell_type": "code",
   "execution_count": 3,
   "id": "0cc826a3-1a11-4214-ae58-0551d5bd94d4",
   "metadata": {},
   "outputs": [],
   "source": [
    "import chromadb\n",
    "\n",
    "client = chromadb.Client()\n",
    "collection = client.create_collection(name=\"my_collection\")"
   ]
  },
  {
   "cell_type": "code",
   "execution_count": 4,
   "id": "dc3e2886",
   "metadata": {},
   "outputs": [
    {
     "name": "stderr",
     "output_type": "stream",
     "text": [
      "C:\\Users\\GOWTHAM\\.cache\\chroma\\onnx_models\\all-MiniLM-L6-v2\\onnx.tar.gz: 100%|████████████████████████████████████████████████████████████| 79.3M/79.3M [04:12<00:00, 329kiB/s]\n"
     ]
    }
   ],
   "source": [
    "collection.add(\n",
    "    documents =[\n",
    "        \"this doc is about environmental sustainability test\",\n",
    "        \"this doc is about semester exam\",\n",
    "\n",
    "    ],\n",
    "    ids = [\"id1\",\"id2\"]\n",
    ")"
   ]
  },
  {
   "cell_type": "code",
   "execution_count": 5,
   "id": "0e4a620f",
   "metadata": {},
   "outputs": [
    {
     "data": {
      "text/plain": [
       "{'ids': ['id1', 'id2'],\n",
       " 'embeddings': None,\n",
       " 'metadatas': [None, None],\n",
       " 'documents': ['this doc is about environmental sustainability test',\n",
       "  'this doc is about semester exam'],\n",
       " 'uris': None,\n",
       " 'data': None}"
      ]
     },
     "execution_count": 5,
     "metadata": {},
     "output_type": "execute_result"
    }
   ],
   "source": [
    "all_docs  = collection.get()\n",
    "all_docs"
   ]
  },
  {
   "cell_type": "code",
   "execution_count": 6,
   "id": "e6f17fe5",
   "metadata": {},
   "outputs": [
    {
     "data": {
      "text/plain": [
       "{'ids': [['id1', 'id2']],\n",
       " 'distances': [[1.3833154439926147, 1.9313087463378906]],\n",
       " 'metadatas': [[None, None]],\n",
       " 'embeddings': None,\n",
       " 'documents': [['this doc is about environmental sustainability test',\n",
       "   'this doc is about semester exam']],\n",
       " 'uris': None,\n",
       " 'data': None}"
      ]
     },
     "execution_count": 6,
     "metadata": {},
     "output_type": "execute_result"
    }
   ],
   "source": [
    "results = collection.query(\n",
    "    query_texts=[\"renewable energy technologies\"],\n",
    "    n_results = 2\n",
    ")\n",
    "results"
   ]
  },
  {
   "cell_type": "code",
   "execution_count": 7,
   "id": "b43f60ae",
   "metadata": {},
   "outputs": [
    {
     "data": {
      "text/plain": [
       "{'ids': [],\n",
       " 'embeddings': None,\n",
       " 'metadatas': [],\n",
       " 'documents': [],\n",
       " 'uris': None,\n",
       " 'data': None}"
      ]
     },
     "execution_count": 7,
     "metadata": {},
     "output_type": "execute_result"
    }
   ],
   "source": [
    "collection.delete(ids = all_docs[\"ids\"])\n",
    "collection.get()"
   ]
  },
  {
   "cell_type": "code",
   "execution_count": 8,
   "id": "736f9fef",
   "metadata": {},
   "outputs": [],
   "source": [
    "collection.add(\n",
    "    documents =[\n",
    "        \"this doc is about environmental sustainability test\",\n",
    "        \"this doc is about semester exam\",\n",
    "\n",
    "    ],\n",
    "    ids = [\"id3\",\"id4\"],\n",
    "    metadatas=[\n",
    "        {\"url\":\"https://en.wikipedia.org/wiki/Sustainability\"},\n",
    "        {\"url\":\"https://en.wikipedia.org/wiki/Exam\"}\n",
    "    ]\n",
    ")\n"
   ]
  },
  {
   "cell_type": "code",
   "execution_count": 9,
   "id": "c8de0aec",
   "metadata": {},
   "outputs": [
    {
     "data": {
      "text/plain": [
       "{'ids': [['id3', 'id4']],\n",
       " 'distances': [[1.3833154439926147, 1.9313087463378906]],\n",
       " 'metadatas': [[{'url': 'https://en.wikipedia.org/wiki/Sustainability'},\n",
       "   {'url': 'https://en.wikipedia.org/wiki/Exam'}]],\n",
       " 'embeddings': None,\n",
       " 'documents': [['this doc is about environmental sustainability test',\n",
       "   'this doc is about semester exam']],\n",
       " 'uris': None,\n",
       " 'data': None}"
      ]
     },
     "execution_count": 9,
     "metadata": {},
     "output_type": "execute_result"
    }
   ],
   "source": [
    "results = collection.query(\n",
    "    query_texts=[\"renewable energy technologies\"],\n",
    "    n_results = 2\n",
    ")\n",
    "results"
   ]
  }
 ],
 "metadata": {
  "kernelspec": {
   "display_name": "Python 3 (ipykernel)",
   "language": "python",
   "name": "python3"
  },
  "language_info": {
   "codemirror_mode": {
    "name": "ipython",
    "version": 3
   },
   "file_extension": ".py",
   "mimetype": "text/x-python",
   "name": "python",
   "nbconvert_exporter": "python",
   "pygments_lexer": "ipython3",
   "version": "3.12.1"
  }
 },
 "nbformat": 4,
 "nbformat_minor": 5
}
